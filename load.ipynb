{
 "cells": [
  {
   "cell_type": "code",
   "execution_count": 3,
   "metadata": {},
   "outputs": [],
   "source": [
    "from dotenv import load_dotenv\n",
    "load_dotenv()\n",
    "import os \n",
    "import openai\n",
    "from openai import OpenAI\n",
    "import pinecone\n",
    "from pinecone import Pinecone, ServerlessSpec"
   ]
  },
  {
   "cell_type": "code",
   "execution_count": 4,
   "metadata": {},
   "outputs": [],
   "source": [
    "pc = Pinecone(api_key= os.getenv(\"PINECONE_API_KEY\"))\n",
    "\n",
    "pc.create_index(\n",
    "    name = 'rag', dimension = 1536, metric = 'cosine', spec = ServerlessSpec(cloud =\"aws\", region = \"us-east-1\")\n",
    ")\n"
   ]
  },
  {
   "cell_type": "code",
   "execution_count": 6,
   "metadata": {},
   "outputs": [
    {
     "data": {
      "text/plain": [
       "[{'Professor': 'Dr. Emily Carter',\n",
       "  'subject': 'Physics',\n",
       "  'stars': 4,\n",
       "  'review': 'Dr. Carter is very knowledgeable and her lectures are engaging. Sometimes the material can be challenging, but she’s always available to help.'},\n",
       " {'Professor': 'Prof. James Nguyen',\n",
       "  'subject': 'Computer Science',\n",
       "  'stars': 5,\n",
       "  'review': 'Amazing professor! He explains complex topics in a simple way. Definitely take his class if you can.'},\n",
       " {'Professor': 'Dr. Sarah Lee',\n",
       "  'subject': 'Mathematics',\n",
       "  'stars': 3,\n",
       "  'review': 'Dr. Lee knows her material well, but her lectures can be a bit dry. It’s hard to stay focused sometimes.'},\n",
       " {'Professor': 'Prof. Michael Johnson',\n",
       "  'subject': 'Chemistry',\n",
       "  'stars': 2,\n",
       "  'review': 'His lectures are very fast-paced, and he doesn’t take questions well. It’s hard to keep up.'},\n",
       " {'Professor': 'Dr. Linda Rodriguez',\n",
       "  'subject': 'Biology',\n",
       "  'stars': 5,\n",
       "  'review': 'Dr. Rodriguez is fantastic! Her enthusiasm makes the subject really interesting, and she’s very approachable.'},\n",
       " {'Professor': 'Prof. William Brown',\n",
       "  'subject': 'History',\n",
       "  'stars': 4,\n",
       "  'review': 'Good professor with a deep understanding of the subject. His exams are tough, but fair.'},\n",
       " {'Professor': 'Dr. Karen Wilson',\n",
       "  'subject': 'Economics',\n",
       "  'stars': 3,\n",
       "  'review': 'Dr. Wilson is okay. Her lectures can be a bit monotonous, but the material is well-organized.'},\n",
       " {'Professor': 'Prof. Daniel Harris',\n",
       "  'subject': 'Philosophy',\n",
       "  'stars': 4,\n",
       "  'review': 'Engaging discussions and thought-provoking lectures. Sometimes the readings are a bit too dense, though.'},\n",
       " {'Professor': 'Dr. Laura Clark',\n",
       "  'subject': 'Political Science',\n",
       "  'stars': 5,\n",
       "  'review': 'One of the best professors I’ve had! She’s passionate about the subject and makes it easy to understand.'},\n",
       " {'Professor': 'Prof. Steven Walker',\n",
       "  'subject': 'Sociology',\n",
       "  'stars': 3,\n",
       "  'review': 'Decent professor, but his lectures are a bit unstructured. You have to do a lot of self-study.'},\n",
       " {'Professor': 'Dr. Nancy Martinez',\n",
       "  'subject': 'Psychology',\n",
       "  'stars': 4,\n",
       "  'review': 'Dr. Martinez is very knowledgeable and provides a lot of real-world examples. Her exams are challenging but fair.'},\n",
       " {'Professor': 'Prof. Robert Davis',\n",
       "  'subject': 'Engineering',\n",
       "  'stars': 2,\n",
       "  'review': 'Prof. Davis is very strict and doesn’t provide much support outside of lectures. The workload is heavy.'},\n",
       " {'Professor': 'Dr. John Moore',\n",
       "  'subject': 'Literature',\n",
       "  'stars': 5,\n",
       "  'review': 'Excellent professor! His passion for literature is contagious, and he encourages deep analysis.'},\n",
       " {'Professor': 'Prof. Patricia King',\n",
       "  'subject': 'Art History',\n",
       "  'stars': 4,\n",
       "  'review': 'Prof. King is very knowledgeable and her lectures are well-organized. However, the material can be a bit dense.'},\n",
       " {'Professor': 'Dr. Richard White',\n",
       "  'subject': 'Music',\n",
       "  'stars': 3,\n",
       "  'review': 'Dr. White knows his stuff, but his lectures can be a bit all over the place. You need to pay close attention.'},\n",
       " {'Professor': 'Prof. Barbara Taylor',\n",
       "  'subject': 'Anthropology',\n",
       "  'stars': 4,\n",
       "  'review': 'Interesting lectures with a lot of real-world examples. Sometimes the reading assignments are a bit much, though.'},\n",
       " {'Professor': 'Dr. Charles Thompson',\n",
       "  'subject': 'Environmental Science',\n",
       "  'stars': 5,\n",
       "  'review': 'Dr. Thompson is an excellent professor. His lectures are engaging and he’s very passionate about the subject.'},\n",
       " {'Professor': 'Prof. Elizabeth Allen',\n",
       "  'subject': 'Business',\n",
       "  'stars': 3,\n",
       "  'review': 'Prof. Allen is okay. Her lectures are straightforward but not very engaging. You’ll learn a lot if you put in the effort.'},\n",
       " {'Professor': 'Dr. Thomas Scott',\n",
       "  'subject': 'Chemistry',\n",
       "  'stars': 4,\n",
       "  'review': 'Dr. Scott is a good professor who explains the material well. The labs are a bit difficult, though.'},\n",
       " {'Professor': 'Prof. Jennifer Adams',\n",
       "  'subject': 'Sociology',\n",
       "  'stars': 2,\n",
       "  'review': 'Prof. Adams is not very approachable and her lectures are often confusing. Be prepared to study a lot on your own.'}]"
      ]
     },
     "execution_count": 6,
     "metadata": {},
     "output_type": "execute_result"
    }
   ],
   "source": [
    "import json\n",
    "data = json.load(open(\"reviews.json\"))\n",
    "data['reviews']"
   ]
  },
  {
   "cell_type": "code",
   "execution_count": null,
   "metadata": {},
   "outputs": [],
   "source": [
    "processed_data =[]\n",
    "CLINE = OpenAI()\n",
    "#here we are creating our embeddings, they capture the semantic representation of the text in neumeroical form\n",
    "\n",
    "for review in data['reviews']:\n",
    "    response = client.embeddings.create(\n",
    "        input = review['review'],\n",
    "        model = 'text-embedding-3-small',\n",
    "    )\n",
    "    embedding = response.data[0].embedding\n",
    "    processed_data.append({\n",
    "        \"values\": embedding,\n",
    "        \"id\": review['professor'],\n",
    "        \"metadata\":{\n",
    "            \"review\": review[\"review\"],\n",
    "            \"subject\": review['subject'],\n",
    "            \"stars\": review['stars']\n",
    "        }\n",
    "\n",
    "    })\n"
   ]
  }
 ],
 "metadata": {
  "kernelspec": {
   "display_name": "Python 3",
   "language": "python",
   "name": "python3"
  },
  "language_info": {
   "codemirror_mode": {
    "name": "ipython",
    "version": 3
   },
   "file_extension": ".py",
   "mimetype": "text/x-python",
   "name": "python",
   "nbconvert_exporter": "python",
   "pygments_lexer": "ipython3",
   "version": "3.10.14"
  }
 },
 "nbformat": 4,
 "nbformat_minor": 2
}
